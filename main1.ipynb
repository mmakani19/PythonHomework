{
 "cells": [
  {
   "cell_type": "code",
   "execution_count": 121,
   "metadata": {},
   "outputs": [],
   "source": [
    "# Import libraries and dependencies\n",
    "\n",
    "import os\n",
    "import csv\n",
    "from pathlib import Path"
   ]
  },
  {
   "cell_type": "code",
   "execution_count": 122,
   "metadata": {},
   "outputs": [],
   "source": [
    "# Set the path\n",
    "filepath = Path ('budget_data.csv')"
   ]
  },
  {
   "cell_type": "code",
   "execution_count": 123,
   "metadata": {},
   "outputs": [],
   "source": [
    "# Define variables\n",
    "months = []\n",
    "pnl_changes = []\n",
    "\n",
    "count_months = 0\n",
    "net_pnl = 0\n",
    "previous_month_pnl = 0\n",
    "current_month_pnl = 0\n",
    "pnl_change = 0"
   ]
  },
  {
   "cell_type": "code",
   "execution_count": 124,
   "metadata": {},
   "outputs": [],
   "source": [
    "# Open CSV file and run loop\n",
    "\n",
    "with open(filepath, 'r') as csvfile:\n",
    "\n",
    "    csv_reader = csv.reader(csvfile, delimiter=',')\n",
    "    \n",
    "    csv_header = next(csvfile)\n",
    "    \n",
    "    for row in csv_reader:\n",
    "\n",
    "        count_months += 1\n",
    "        current_month_pnl = int(row[1])\n",
    "        net_pnl += current_month_pnl\n",
    "        \n",
    "        if (count_months == 1):\n",
    "            previous_month_pnl = current_month_pnl\n",
    "            \n",
    "            \n",
    "        else:\n",
    "\n",
    "            pnl_change = current_month_pnl - previous_month_pnl\n",
    "\n",
    "            months.append(row[0])\n",
    "\n",
    "            pnl_changes.append(pnl_change)\n",
    "\n",
    "            previous_month_pnl = current_month_pnl\n",
    "    "
   ]
  },
  {
   "cell_type": "code",
   "execution_count": 125,
   "metadata": {},
   "outputs": [],
   "source": [
    "# Calculating sum, max profit and max loss   \n",
    "\n",
    "sum_pnl =int(sum(pnl_changes))\n",
    "average_pnl =int(round(sum_pnl/(count_months - 1), 2))\n",
    "max_change = max(pnl_changes)\n",
    "min_change = min(pnl_changes)\n",
    "\n",
    "# Calculating month corresponding to max profit and max loss\n",
    "\n",
    "max_month = pnl_changes.index(max_change)\n",
    "min_month = pnl_changes.index(min_change)\n"
   ]
  },
  {
   "cell_type": "code",
   "execution_count": 126,
   "metadata": {},
   "outputs": [],
   "source": [
    "best_month = months[max_month]\n",
    "worst_month = months[min_month]"
   ]
  },
  {
   "cell_type": "code",
   "execution_count": 132,
   "metadata": {},
   "outputs": [
    {
     "name": "stdout",
     "output_type": "stream",
     "text": [
      "************Financial Analysis**************\n",
      "Total Months:  86\n",
      "Total of Monthly Profits/Losses:   $ 38,382,578\n",
      "Average Increase/Decrease in Monthly Profits/Losses:  $-2,315\n",
      "Maximum Increase in Profits:  Feb-2012 $ 1,926,159\n",
      "Maximum Decrease in Profits:  Sep-2013 $-2,196,167\n"
     ]
    }
   ],
   "source": [
    "print(f\"************Financial Analysis**************\")\n",
    "print(f\"Total Months:  {count_months}\")\n",
    "print(f\"Total of Monthly Profits/Losses:   ${net_pnl: ,}\")\n",
    "print(f\"Average Increase/Decrease in Monthly Profits/Losses:  ${average_pnl: ,}\")\n",
    "print(f\"Maximum Increase in Profits:  {best_month} ${max_change: ,}\")\n",
    "print(f\"Maximum Decrease in Profits:  {worst_month} ${min_change: ,}\")"
   ]
  },
  {
   "cell_type": "code",
   "execution_count": null,
   "metadata": {},
   "outputs": [],
   "source": []
  },
  {
   "cell_type": "code",
   "execution_count": null,
   "metadata": {},
   "outputs": [],
   "source": []
  },
  {
   "cell_type": "code",
   "execution_count": null,
   "metadata": {},
   "outputs": [],
   "source": []
  },
  {
   "cell_type": "code",
   "execution_count": null,
   "metadata": {},
   "outputs": [],
   "source": []
  }
 ],
 "metadata": {
  "kernelspec": {
   "display_name": "Python 3",
   "language": "python",
   "name": "python3"
  },
  "language_info": {
   "codemirror_mode": {
    "name": "ipython",
    "version": 3
   },
   "file_extension": ".py",
   "mimetype": "text/x-python",
   "name": "python",
   "nbconvert_exporter": "python",
   "pygments_lexer": "ipython3",
   "version": "3.8.5"
  }
 },
 "nbformat": 4,
 "nbformat_minor": 4
}
